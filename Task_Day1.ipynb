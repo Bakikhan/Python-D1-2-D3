{
 "cells": [
  {
   "cell_type": "markdown",
   "id": "d7c8b6be",
   "metadata": {},
   "source": [
    "# Workshop 1\n",
    "\n",
    "## Jupyter Notebook and PIP environment\n",
    "\n",
    "-----\n",
    "\n",
    "### Aims of the workshop\n",
    "\n",
    "The aim of this session is to introduce you to the Python Interpreter and Jupyter Notebook environment. This workshop will serve as an introductionto Python, putting into practice all that we’ve covered this week. It is important to take time to understand these basic concepts, and explore what they can do. \n",
    "\n",
    "Please see ‘Useful Information’ below on how to lookup certain Python functionality. The concept behind this workshop is about discovery, and experimentation surrounding topics covered so far. \n",
    "\n",
    "Feel free to discuss the work with me.\n",
    "\n",
    "----\n",
    "\n",
    "### Useful Information\n",
    "\n",
    "Throughout this workshop you may find the following useful.\n",
    "\n",
    "Python Documentation\n",
    "\n",
    "https://docs.python.org/3.8/\n",
    "\n",
    "This allows you to lookup core language features of Python 3.8 as well as tangential information about the Python Language. \n",
    "\n",
    "### Jupyter Notebook Basics\n",
    "\n",
    "Jupyter itself offers some basic documentation for people new to the editor. These can be found on \n",
    "\n",
    "https://jupyter-notebook.readthedocs.io/en/stable/examples/Notebook/Notebook%20Basics.html \n",
    "\n",
    "Jupyter can also use markdown cells for text input to describethings. If you wish to annotate each cell as to which Exercise it belongs to, you may find this useful:\n",
    "\n",
    "https://jupyter-notebook.readthedocs.io/en/stable/examples/Notebook/Working%20With%20Markdown%20Cells.html\n",
    "\n",
    "----\n",
    "\n",
    "### Reminder\n",
    "\n",
    "I encourage you to discuss the contents of the workshop with me , and any findings you gather from the session.\n",
    "\n",
    "Workshops are not isolated, if you have questions from previous lecture content, please come and talk to me via messaging me from your udemy account.\n",
    "\n",
    "The contents of this workshop are ​not​ intended to be 100% complete within the session; as such it’s expected that some of this work be completed outside of the session. \n",
    "\n",
    "Exercises here in represent an example of what to do, feel free to expand upon this."
   ]
  },
  {
   "cell_type": "markdown",
   "id": "5e5020c1",
   "metadata": {},
   "source": [
    "## Running A Jupyter/IPython Notebook\n",
    "\n",
    "Instructions showing Jupyter Notebook installation, is available on previous lectures.\n",
    "\n",
    "A Jupyter notebook is a server which runs on the local machine. It will use whichever directory it is invoked within as the root folder. It is then able to see all sub-folders within that , if you are wishing to install this at home, you may need to follow pip instructions for installing jupyter. \n",
    "\n",
    "Jupyter Notebook can be launched from the command line by invoking:\n",
    "\n",
    "    jupyter notebook\n",
    "\n",
    "This will start a server, typically on ​http://localhost:8888/tree​, and should automatically open a new tab in the browser.\n",
    "\n",
    "Jupyter notebook server uses a token, generated at launch, to authenticate access. By default, the notebook server is accessible to anybody with network access to your machine over the port, with the correct token.\n",
    "\n",
    "If you are asked for a password or token, you can always invoke:\n",
    "\n",
    "    jupyter notebook list\n",
    "    \n",
    " This will provide you a list of currently active Notebook servers (you can run multiple, on different ports, for different folders), along with their token, all within a single URL.\n",
    " \n",
    "### PIP and packages\n",
    " \n",
    " PIP is python’s packaging tool, it enables the installation of libraries. If you tried to import pandas when starting your notebook, you may have noticed that it gives you an error. This is because, by default, pandas is not installed within the super lab.\n",
    " \n",
    " Python has a rich community backing, with several libraries available over at PyPI which users can install. Users can even make their own libraries and host them online for others to use.\n",
    " \n",
    " Most packages can be installed by using\n",
    " \n",
    "     pip install packageName\n",
    " \n",
    " Remember, you can always use `pip help install` for specific help information on installing."
   ]
  },
  {
   "cell_type": "markdown",
   "id": "e24a867c",
   "metadata": {},
   "source": [
    "# Using the Python Interpreter\n",
    "\n",
    "Remember, you can launch the interpreter by opening a command prompt and typing\n",
    "\n",
    "    python\n",
    "    \n",
    "### Exercise 1: \n",
    "\n",
    "When prompted, type print(“Hello World!”) this should enter ​Hello World!​ On the line immediately afterwards. This is the output of the expression:\n",
    "\n",
    "```\n",
    "C:\\Users\\Udemy>python  \n",
    "Python 3.8.10 (tags/v3.8.10:3d8993a, May  3 2021, 11:48:03) [MSC v.1928 64 bit (\n",
    "AMD64)] on win32  \n",
    "Type \"help\", \"copyright\", \"credits\" or \"license\" for more information.  \n",
    ">>> print(\"Hello World!\")  \n",
    "Hello World!  \n",
    ">>>  \n",
    "```\n",
    "\n",
    "Congratulations! You’ve just run your first Python command."
   ]
  },
  {
   "cell_type": "markdown",
   "id": "58272b5b",
   "metadata": {},
   "source": [
    "----\n",
    "\n",
    "----"
   ]
  },
  {
   "cell_type": "markdown",
   "id": "d6fc9daf",
   "metadata": {},
   "source": [
    "### Exercise 2:\n",
    "\n",
    "We can use `type()` to check the type of any value. We simply provide the value to type, between the parentheses. \n",
    "\n",
    "E.g. `type(932)` \n",
    "Try this in the interpreter? What do you get out?\n",
    "\n",
    "Hint: We don’t need print in this case with the interpreter, because it is outputting it for us. If we executed this code in a `.py` file, this would not be the case. Any expressions which have a value will be spit back to us.\n",
    "\n",
    "Using your knowledge of the other basic types we introduced, check some examples of these values with `type()`."
   ]
  },
  {
   "cell_type": "markdown",
   "id": "e1e57b95",
   "metadata": {},
   "source": [
    "----\n",
    "\n",
    "----"
   ]
  },
  {
   "cell_type": "markdown",
   "id": "bff364f8",
   "metadata": {},
   "source": [
    "### Exercise 3:\n",
    "\n",
    "We covered casting a value from one type to another. An example of this might be treating the integer 932 as a float.\n",
    "\n",
    "1. Write an expression which casts 932 to the type string (shortened to str)\n",
    "2. Verify the type output from the step above. Hint: We don’t need to use any variables yet. Remember, `type()` can take any expression which provides a value."
   ]
  },
  {
   "cell_type": "markdown",
   "id": "bfb97b3e",
   "metadata": {},
   "source": [
    "----\n",
    "\n",
    "----"
   ]
  },
  {
   "cell_type": "markdown",
   "id": "51dae12f",
   "metadata": {},
   "source": [
    "### Exercise 4:\n",
    "\n",
    "For the following expressions, what are the types of the two inputs values, and what is the type of the result of executing the expression. Try to answer these first without writing code, then write some Python to verify if you are correct.\n",
    "\n",
    "1. 3 + 4\n",
    "2. 3.0 + 4\n",
    "3. 37 % 7 ** 2\n",
    "4. ‘bob’ + ‘cat’\n",
    "5. “bob” / “cat”\n",
    "6. “banana” + “na” * 20\n",
    "\n",
    "Do any of these combinations surprise you?\n",
    "Try other operators which you know, and some other data types."
   ]
  },
  {
   "cell_type": "markdown",
   "id": "77191bd4",
   "metadata": {},
   "source": [
    "----\n",
    "\n",
    "----"
   ]
  },
  {
   "cell_type": "markdown",
   "id": "357824ca",
   "metadata": {},
   "source": [
    "### Exercise 5:\n",
    "\n",
    "You are given the following mathematical expression\n",
    "\n",
    "    12 + 28 / 7 * 2 \n",
    "    \n",
    "Using your understanding of PEMDAS:\n",
    "\n",
    "1. What would be the result of such an expression? Which numbers are calculated together first\n",
    "2. What would be the overall type of the result?\n",
    "3. How might we use parentheses to make this expression less ambiguous?  Remember, the expression must still return the same value!"
   ]
  },
  {
   "cell_type": "markdown",
   "id": "cb3b9663",
   "metadata": {},
   "source": [
    "----\n",
    "\n",
    "----"
   ]
  },
  {
   "cell_type": "markdown",
   "id": "c677f079",
   "metadata": {},
   "source": [
    "### Exercise 6:\n",
    "\n",
    "Create some variables (name of your choosing) to store the values 42.0 and 97.\n",
    "\n",
    "1. Calculate addition, subtraction, divide, and multiply operators on these. (E.g a * b)\n",
    "2. Using the expressions from above, create a new variable which is assigned thatexpression. (E.g `product = a * b`). Do this for all your variants.\n",
    "3. Print your new variables. (E.g `print( product )`)"
   ]
  },
  {
   "cell_type": "markdown",
   "id": "72d36247",
   "metadata": {},
   "source": [
    "----\n",
    "\n",
    "----"
   ]
  },
  {
   "cell_type": "markdown",
   "id": "9f24b1bb",
   "metadata": {},
   "source": [
    "### Exercise 7:\n",
    "\n",
    "Pick your favourite expression from Ex 4. Take any variable from Ex6 which you made (E.g `product`), and re-bind this to your favourite Ex4 expression (E.g `= 37 % 7 ** 2`). Print the new value of your Ex6 variable (E.g. `print(product)` again); observe the change in value from the end of Ex6."
   ]
  },
  {
   "cell_type": "markdown",
   "id": "ecf5a901",
   "metadata": {},
   "source": [
    "----\n",
    "\n",
    "----"
   ]
  },
  {
   "cell_type": "markdown",
   "id": "bff29eb5",
   "metadata": {},
   "source": [
    "## Using the Jupyter Notebook\n",
    "\n",
    "### Exercise 8:\n",
    "\n",
    "If you have not done so already, Launch a Jupyter Notebook, and explore the interface and controls. Look at the useful information section above under Jupyter Notebook Basics. Try executing the python exercises above in Jupyter Cells added to the notebook, and noting their output. It is recommended that you make a fresh notebook for each workshop we run if you are not using  the provided notebook. This way you can reference back previous works. Each exercise should be able to be placed in its own cell as it is here."
   ]
  },
  {
   "cell_type": "markdown",
   "id": "50f67478",
   "metadata": {},
   "source": [
    "## Exercise 9:\n",
    "\n",
    "Add a Markdown cell as the first cell at the top of the book to indicate your information. Enter the following, filling in your student ID(Any random alpha numeric combination ) in place of <StudentID>:\n",
    "    \n",
    "    # Student Name\n",
    "    ## Random Student ID: <StudentID>\n",
    "    \n",
    " Use Shift+Enter, to execute this markdown cell and force it to display."
   ]
  },
  {
   "cell_type": "markdown",
   "id": "60e1ebc7",
   "metadata": {},
   "source": [
    "### Exercise 10:\n",
    "\n",
    "We can use comparison operators on strings, just as numbers. However, these have some different behaviours. Comparing two strings “ada”, and “bill” will check the first letter of each and will use alphabetical ordering to determine which one is ‘first’ (i.e. Lower than the latter).\n",
    "\n",
    "- In the fresh cell below, try executing “ada” < “bill” \n",
    "\n",
    "If the first letter is the same in both, it will then check the second letter to make the outcome. If the second letter is also the same, it will keep progressing until out of letters.\n",
    "\n",
    "- Compare “ada” with “adb” \n",
    "\n",
    "If the two words have different lengths, but otherwise are identical as we go along, python will favour the shorter of the two strings.\n",
    "\n",
    "- E.g. “ada” < “adalovelace” -> True"
   ]
  },
  {
   "cell_type": "code",
   "execution_count": null,
   "id": "35c5e6b3",
   "metadata": {},
   "outputs": [],
   "source": []
  },
  {
   "cell_type": "markdown",
   "id": "fffb75e7",
   "metadata": {},
   "source": [
    "### Exercise 11:\n",
    "\n",
    "Using `input()` ask the user to input a name. Let’s check if the name is equal to your name using an equality test!\n",
    "\n",
    "E.g.\n",
    "```\n",
    "their_name = input(“What is your name?: “)\n",
    "if their_name == “Uzair”:\n",
    "    print(“I’m called that too”)\n",
    "```    "
   ]
  },
  {
   "cell_type": "code",
   "execution_count": null,
   "id": "e7bcb386",
   "metadata": {},
   "outputs": [],
   "source": []
  },
  {
   "cell_type": "markdown",
   "id": "b63a0055",
   "metadata": {},
   "source": [
    "### Exercise 12:\n",
    "\n",
    "Remember that we can perform logical operations on entire boolean expressions themselves. Modify the boolean expression in Ex11 to also accept if they enter your last name too!\n",
    "\n",
    "E.g.\n",
    "```\n",
    "their_name = input(“What is your name?: “)\n",
    "if their_name == “Uzair” or their_name == “Khan”:\n",
    "    print(“I’m called that too”)\n",
    "```    \n",
    " Test out providing other names, your first name, and your last name to see what the program outputs. Remember you can re-run the same cell that you have selected. Notice how each side of ‘or’ is a boolean expression which evaluates to True/False in itself."
   ]
  },
  {
   "cell_type": "code",
   "execution_count": null,
   "id": "dc32add3",
   "metadata": {},
   "outputs": [],
   "source": []
  },
  {
   "cell_type": "markdown",
   "id": "032d68bb",
   "metadata": {},
   "source": [
    "### Exercise 13:\n",
    "\n",
    "Given the following input table, complete the truth table for the following expression:\n",
    "\n",
    "    (a and b) or c\n",
    "\n",
    "|a|b|c|a and b|(a and b) or c|\n",
    "| --- | --- | --- | ------- | ------- |\n",
    "|True|True|True| | |\n",
    "|True|False|True| | |\n",
    "|False|True|True| | |\n",
    "|False|False|True| | |\n",
    "|True|True|False| | |\n",
    "|True|False|False| | |\n",
    "|False|True|False| | |\n"
   ]
  },
  {
   "cell_type": "markdown",
   "id": "4171fb50",
   "metadata": {},
   "source": [
    "### Exercise 14:\n",
    "\n",
    "You are then told that the expression is incorrect, and should be:\n",
    "\n",
    "     (a and b) or not c\n",
    "     \n",
    "How does this change the overall boolean expression. Add a column to your table, and fill in the results of this new expression."
   ]
  },
  {
   "cell_type": "code",
   "execution_count": null,
   "id": "aa6429f4",
   "metadata": {},
   "outputs": [],
   "source": []
  },
  {
   "cell_type": "markdown",
   "id": "ac6b2cc3",
   "metadata": {},
   "source": [
    "### Exercise 15:\n",
    "\n",
    "We can use the expression `x % 2 == 0` to check if a variable is even. Write an `if statement` to check if a given variable is even. It should print out “The variable is even!” if it passes this condition. Remember, modulo provides a remainder. Even numbers can fit 2 into themselves perfectly with nothing left over, hence why we check if the remainder is 0."
   ]
  },
  {
   "cell_type": "code",
   "execution_count": null,
   "id": "920bf26b",
   "metadata": {},
   "outputs": [],
   "source": []
  },
  {
   "cell_type": "markdown",
   "id": "a8968a48",
   "metadata": {},
   "source": [
    "### Exercise 16:\n",
    "\n",
    "How could Ex15 be modified to also print “The variable is odd!” when the variable is odd? Can a variable be anything other than even or odd?"
   ]
  },
  {
   "cell_type": "code",
   "execution_count": null,
   "id": "35052ced",
   "metadata": {},
   "outputs": [],
   "source": []
  },
  {
   "cell_type": "markdown",
   "id": "bfb954b9",
   "metadata": {},
   "source": [
    "### Exercise 17:\n",
    "\n",
    "Produce some code which first checks if a variable is divisible by 2, then checks if it is divisible by 3, otherwise prints that it is “not divisible by 2 or 3”. Would we use two separate if statements, or a single if, elif statement.\n",
    "\n",
    "To help you decide, consider what should be output if we tested the number 6 through this system."
   ]
  },
  {
   "cell_type": "code",
   "execution_count": null,
   "id": "eca19a8c",
   "metadata": {},
   "outputs": [],
   "source": []
  },
  {
   "cell_type": "markdown",
   "id": "90209666",
   "metadata": {},
   "source": [
    "### Exercise 18:\n",
    "\n",
    "You are given the following list of numbers:\n",
    "```\n",
    "   A = [ 5, 2, 9, -1, 3, 12]\n",
    "```\n",
    "Using the counter method from lectures slides, create a while loop which will go over each item in this list.\n",
    "1. Print each item\n",
    "2. Check if the item is -1, if so, immediately break out of the loop.\n",
    "3. Calculate the square of the element, and print it."
   ]
  },
  {
   "cell_type": "code",
   "execution_count": null,
   "id": "290d3812",
   "metadata": {},
   "outputs": [],
   "source": []
  },
  {
   "cell_type": "markdown",
   "id": "737a8cd8",
   "metadata": {},
   "source": [
    "### Exercise 19:\n",
    "\n",
    "Replace the while loop counter method from Ex18 with for loop and range(n)"
   ]
  },
  {
   "cell_type": "code",
   "execution_count": null,
   "id": "014c650a",
   "metadata": {},
   "outputs": [],
   "source": []
  },
  {
   "cell_type": "markdown",
   "id": "1ed643c5",
   "metadata": {},
   "source": [
    "### Exercise 20:\n",
    "\n",
    "Repeat Ex19, but using the direct iteration version. E.g. No indexing."
   ]
  },
  {
   "cell_type": "code",
   "execution_count": null,
   "id": "2a7508ef",
   "metadata": {},
   "outputs": [],
   "source": []
  },
  {
   "cell_type": "markdown",
   "id": "53ecb762",
   "metadata": {},
   "source": [
    "### Exercise 21:\n",
    "\n",
    "Using the list, A, from Ex18, write a loop which will sum all of the numbers up,and print them."
   ]
  },
  {
   "cell_type": "code",
   "execution_count": null,
   "id": "347eeea5",
   "metadata": {},
   "outputs": [],
   "source": []
  },
  {
   "cell_type": "markdown",
   "id": "32ff0b26",
   "metadata": {},
   "source": [
    "### Exercise 22:\n",
    "\n",
    "The mean number can be calculated by taking the summation and dividing by how many elements were there. Using the output of Ex21 (the summation), create a new variable for the mean number of the list. (E.g. [1, 3, 5] # Sum is 9. Mean is 9 / 3 which is 3.)"
   ]
  },
  {
   "cell_type": "code",
   "execution_count": null,
   "id": "ad6492e1",
   "metadata": {},
   "outputs": [],
   "source": []
  },
  {
   "cell_type": "markdown",
   "id": "209619ed",
   "metadata": {},
   "source": [
    "### Exercise 23:\n",
    "\n",
    "You are asked to find the minimum, and maximum of a list of numbers. You are provided with code to determine the minimum.\n",
    "\n",
    "```\n",
    "my_items = [ -5, 3, 72, 1, 9, 24, -3]\n",
    "\n",
    "minimum_so_far = None\n",
    "for elem in my_items:\n",
    "    if minimum_so_far == None or elem < minimum_so_far:\n",
    "        minimum_so_far = elem\n",
    "        \n",
    "print(“Minimum Value: “, minimum)\n",
    "```\n",
    "Modify the above program to also calculate the maximum so far, outputting it in a similar way.\n",
    "\n",
    "In this example we used `None` as an initial value as it’s not a number. If the value is None,then we know we haven’t checked anything yet, so our first value is always going to be our highest and lowest!"
   ]
  },
  {
   "cell_type": "code",
   "execution_count": null,
   "id": "53f17945",
   "metadata": {},
   "outputs": [],
   "source": []
  },
  {
   "cell_type": "markdown",
   "id": "96c71c32",
   "metadata": {},
   "source": [
    "### Exercise 24:\n",
    "\n",
    "Execute the following:\n",
    "\n",
    "```\n",
    "A = 5\n",
    "B = A\n",
    "B = 10\n",
    "print(A) =>  5\n",
    "print(B) => 10\n",
    "```\n",
    "When we rebind B to be 10, A is left completely unmodified. This behaviour is unique to basic data primitives such as the basic types we have looked at. However, let’s see what happens if we do something similar to a List.\n",
    "```\n",
    "A = [ 1, 6, 2, 7 ]\n",
    "B = A\n",
    "B.remove( 6 )\n",
    "print( A ) => [ 1, 2, 7 ]\n",
    "```\n",
    "This behaviour will hold for Lists, Dicts, and most ‘objects’ in Python. B is a reference to A. We only have one copy of our list floating around, but now we have multiple variables capable of pointing to it. If we wanted to make a copy of the List, such that we can modify them independent of each other we have to `[:]`. E.g.\n",
    "```\n",
    "A = [ 1, 6, 2, 7 ]\n",
    "B = A[:]\n",
    "B.remove( 6 )\n",
    "print( A ) => [ 1, 6, 2, 7 ]\n",
    "print( B ) => [ 1, 2, 7]\n",
    "```\n",
    "This is known as ‘slice’ notation. Effectively `[:]` says to take the entire list, and it makes a copy of this."
   ]
  },
  {
   "cell_type": "code",
   "execution_count": null,
   "id": "2dc1a5f7",
   "metadata": {},
   "outputs": [],
   "source": []
  },
  {
   "cell_type": "markdown",
   "id": "fad42ccc",
   "metadata": {},
   "source": [
    "### Exercise 25:\n",
    "\n",
    "Using B (your copy of A), ​append​ some of your favourite numbers to the list."
   ]
  },
  {
   "cell_type": "code",
   "execution_count": null,
   "id": "08989b53",
   "metadata": {},
   "outputs": [],
   "source": []
  },
  {
   "cell_type": "markdown",
   "id": "c3c0d8bc",
   "metadata": {},
   "source": [
    "### Exercise 26:\n",
    "\n",
    "You are given the following to complete:\n",
    "```\n",
    "results = []\n",
    "bought_cost = [ 10.0, 12.55, 17.99 ] # Price you pay to the manufacturer for an item \n",
    "sale_price = [ 12.0, 11.50, 20.0 ] # Price you sell it for\n",
    "\n",
    "for i in range( len(item_cost) ):\n",
    "    <Calculate the difference between sale_price and bought_cost>\n",
    "    <Add these to the empty list, results>\n",
    "    \n",
    "print(results)\n",
    "\n",
    "<Calculate and print the total profit/loss overall>\n",
    "```    \n",
    "`Note:` Take care when calculating whether we made a loss, or a profit on our sale!\n",
    "    \n",
    "_Adv Hint: There is such a function called zip, which can help iterate over two lists at once, should you wish to look this up. It is left out of here as to not overwhelm._"
   ]
  },
  {
   "cell_type": "code",
   "execution_count": null,
   "id": "6eedb859",
   "metadata": {},
   "outputs": [],
   "source": []
  },
  {
   "cell_type": "markdown",
   "id": "331a0f8e",
   "metadata": {},
   "source": [
    "### Exercise 27:\n",
    "\n",
    "You are given the following dictionary:\n",
    "```\n",
    "student_records = {\n",
    "           “Ada”: 98.0,\n",
    "          “Bill”: 45.0,\n",
    "       “Charlie”: 63.2\n",
    "}\n",
    "```\n",
    "You are then given two separate lists, one with names, and another with grades. You are to go through these lists, and insert the students correctly into the dictionary.\n",
    "```\n",
    "student_names= [“Neva”,“Kelley”,“Emerson”]\n",
    "student_grades= [72.2,64.9,32.0 ]\n",
    "```\n",
    "1. Ensure both lists are the same length: How might we check for this?\n",
    "2. Using a for loop, iterating in range sufficient for all the elements\n",
    "    a. Each iteration here represents an index. E.g Index-0 is Neva and her grade.\n",
    "    b. Insert these into the dictionary. \n",
    "\n",
    "Remember `dictionary[“theKey”] =value`. “theKey” can be replaced with any expression which evaluates as a string. It could be a variable, or another expression."
   ]
  },
  {
   "cell_type": "code",
   "execution_count": null,
   "id": "bf4a5405",
   "metadata": {},
   "outputs": [],
   "source": []
  },
  {
   "cell_type": "markdown",
   "id": "90dc8603",
   "metadata": {},
   "source": [
    "### Exercise 28:\n",
    "\n",
    "Using the `for k, v ... ` code example from the lecture slides, iterate over your newly modified dictionary, showing the new entries.\n"
   ]
  },
  {
   "cell_type": "code",
   "execution_count": null,
   "id": "2c4bfe94",
   "metadata": {},
   "outputs": [],
   "source": []
  }
 ],
 "metadata": {
  "kernelspec": {
   "display_name": "Python 3 (ipykernel)",
   "language": "python",
   "name": "python3"
  },
  "language_info": {
   "codemirror_mode": {
    "name": "ipython",
    "version": 3
   },
   "file_extension": ".py",
   "mimetype": "text/x-python",
   "name": "python",
   "nbconvert_exporter": "python",
   "pygments_lexer": "ipython3",
   "version": "3.9.13"
  }
 },
 "nbformat": 4,
 "nbformat_minor": 5
}
